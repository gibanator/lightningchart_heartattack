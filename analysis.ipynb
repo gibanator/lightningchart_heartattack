{
 "cells": [
  {
   "metadata": {
    "ExecuteTime": {
     "end_time": "2024-08-13T07:29:08.729214Z",
     "start_time": "2024-08-13T07:29:08.674173Z"
    }
   },
   "cell_type": "code",
   "source": [
    "import pandas as pd\n",
    "import lightningchart as lc"
   ],
   "id": "113710cabff65472",
   "outputs": [],
   "execution_count": 120
  },
  {
   "metadata": {},
   "cell_type": "markdown",
   "source": "## Data handling",
   "id": "5e38a59decc81615"
  },
  {
   "metadata": {
    "ExecuteTime": {
     "end_time": "2024-08-13T07:29:09.309808Z",
     "start_time": "2024-08-13T07:29:09.116947Z"
    }
   },
   "cell_type": "code",
   "source": [
    "df = pd.read_csv('data/heart.csv')\n",
    "df"
   ],
   "id": "d6a961e663e89c59",
   "outputs": [
    {
     "data": {
      "text/plain": [
       "     age  sex  cp  trtbps  chol  fbs  restecg  thalachh  exng  oldpeak  slp  \\\n",
       "0     63    1   3     145   233    1        0       150     0      2.3    0   \n",
       "1     37    1   2     130   250    0        1       187     0      3.5    0   \n",
       "2     41    0   1     130   204    0        0       172     0      1.4    2   \n",
       "3     56    1   1     120   236    0        1       178     0      0.8    2   \n",
       "4     57    0   0     120   354    0        1       163     1      0.6    2   \n",
       "..   ...  ...  ..     ...   ...  ...      ...       ...   ...      ...  ...   \n",
       "298   57    0   0     140   241    0        1       123     1      0.2    1   \n",
       "299   45    1   3     110   264    0        1       132     0      1.2    1   \n",
       "300   68    1   0     144   193    1        1       141     0      3.4    1   \n",
       "301   57    1   0     130   131    0        1       115     1      1.2    1   \n",
       "302   57    0   1     130   236    0        0       174     0      0.0    1   \n",
       "\n",
       "     caa  thall  output  \n",
       "0      0      1       1  \n",
       "1      0      2       1  \n",
       "2      0      2       1  \n",
       "3      0      2       1  \n",
       "4      0      2       1  \n",
       "..   ...    ...     ...  \n",
       "298    0      3       0  \n",
       "299    0      3       0  \n",
       "300    2      3       0  \n",
       "301    1      3       0  \n",
       "302    1      2       0  \n",
       "\n",
       "[303 rows x 14 columns]"
      ],
      "text/html": [
       "<div>\n",
       "<style scoped>\n",
       "    .dataframe tbody tr th:only-of-type {\n",
       "        vertical-align: middle;\n",
       "    }\n",
       "\n",
       "    .dataframe tbody tr th {\n",
       "        vertical-align: top;\n",
       "    }\n",
       "\n",
       "    .dataframe thead th {\n",
       "        text-align: right;\n",
       "    }\n",
       "</style>\n",
       "<table border=\"1\" class=\"dataframe\">\n",
       "  <thead>\n",
       "    <tr style=\"text-align: right;\">\n",
       "      <th></th>\n",
       "      <th>age</th>\n",
       "      <th>sex</th>\n",
       "      <th>cp</th>\n",
       "      <th>trtbps</th>\n",
       "      <th>chol</th>\n",
       "      <th>fbs</th>\n",
       "      <th>restecg</th>\n",
       "      <th>thalachh</th>\n",
       "      <th>exng</th>\n",
       "      <th>oldpeak</th>\n",
       "      <th>slp</th>\n",
       "      <th>caa</th>\n",
       "      <th>thall</th>\n",
       "      <th>output</th>\n",
       "    </tr>\n",
       "  </thead>\n",
       "  <tbody>\n",
       "    <tr>\n",
       "      <th>0</th>\n",
       "      <td>63</td>\n",
       "      <td>1</td>\n",
       "      <td>3</td>\n",
       "      <td>145</td>\n",
       "      <td>233</td>\n",
       "      <td>1</td>\n",
       "      <td>0</td>\n",
       "      <td>150</td>\n",
       "      <td>0</td>\n",
       "      <td>2.3</td>\n",
       "      <td>0</td>\n",
       "      <td>0</td>\n",
       "      <td>1</td>\n",
       "      <td>1</td>\n",
       "    </tr>\n",
       "    <tr>\n",
       "      <th>1</th>\n",
       "      <td>37</td>\n",
       "      <td>1</td>\n",
       "      <td>2</td>\n",
       "      <td>130</td>\n",
       "      <td>250</td>\n",
       "      <td>0</td>\n",
       "      <td>1</td>\n",
       "      <td>187</td>\n",
       "      <td>0</td>\n",
       "      <td>3.5</td>\n",
       "      <td>0</td>\n",
       "      <td>0</td>\n",
       "      <td>2</td>\n",
       "      <td>1</td>\n",
       "    </tr>\n",
       "    <tr>\n",
       "      <th>2</th>\n",
       "      <td>41</td>\n",
       "      <td>0</td>\n",
       "      <td>1</td>\n",
       "      <td>130</td>\n",
       "      <td>204</td>\n",
       "      <td>0</td>\n",
       "      <td>0</td>\n",
       "      <td>172</td>\n",
       "      <td>0</td>\n",
       "      <td>1.4</td>\n",
       "      <td>2</td>\n",
       "      <td>0</td>\n",
       "      <td>2</td>\n",
       "      <td>1</td>\n",
       "    </tr>\n",
       "    <tr>\n",
       "      <th>3</th>\n",
       "      <td>56</td>\n",
       "      <td>1</td>\n",
       "      <td>1</td>\n",
       "      <td>120</td>\n",
       "      <td>236</td>\n",
       "      <td>0</td>\n",
       "      <td>1</td>\n",
       "      <td>178</td>\n",
       "      <td>0</td>\n",
       "      <td>0.8</td>\n",
       "      <td>2</td>\n",
       "      <td>0</td>\n",
       "      <td>2</td>\n",
       "      <td>1</td>\n",
       "    </tr>\n",
       "    <tr>\n",
       "      <th>4</th>\n",
       "      <td>57</td>\n",
       "      <td>0</td>\n",
       "      <td>0</td>\n",
       "      <td>120</td>\n",
       "      <td>354</td>\n",
       "      <td>0</td>\n",
       "      <td>1</td>\n",
       "      <td>163</td>\n",
       "      <td>1</td>\n",
       "      <td>0.6</td>\n",
       "      <td>2</td>\n",
       "      <td>0</td>\n",
       "      <td>2</td>\n",
       "      <td>1</td>\n",
       "    </tr>\n",
       "    <tr>\n",
       "      <th>...</th>\n",
       "      <td>...</td>\n",
       "      <td>...</td>\n",
       "      <td>...</td>\n",
       "      <td>...</td>\n",
       "      <td>...</td>\n",
       "      <td>...</td>\n",
       "      <td>...</td>\n",
       "      <td>...</td>\n",
       "      <td>...</td>\n",
       "      <td>...</td>\n",
       "      <td>...</td>\n",
       "      <td>...</td>\n",
       "      <td>...</td>\n",
       "      <td>...</td>\n",
       "    </tr>\n",
       "    <tr>\n",
       "      <th>298</th>\n",
       "      <td>57</td>\n",
       "      <td>0</td>\n",
       "      <td>0</td>\n",
       "      <td>140</td>\n",
       "      <td>241</td>\n",
       "      <td>0</td>\n",
       "      <td>1</td>\n",
       "      <td>123</td>\n",
       "      <td>1</td>\n",
       "      <td>0.2</td>\n",
       "      <td>1</td>\n",
       "      <td>0</td>\n",
       "      <td>3</td>\n",
       "      <td>0</td>\n",
       "    </tr>\n",
       "    <tr>\n",
       "      <th>299</th>\n",
       "      <td>45</td>\n",
       "      <td>1</td>\n",
       "      <td>3</td>\n",
       "      <td>110</td>\n",
       "      <td>264</td>\n",
       "      <td>0</td>\n",
       "      <td>1</td>\n",
       "      <td>132</td>\n",
       "      <td>0</td>\n",
       "      <td>1.2</td>\n",
       "      <td>1</td>\n",
       "      <td>0</td>\n",
       "      <td>3</td>\n",
       "      <td>0</td>\n",
       "    </tr>\n",
       "    <tr>\n",
       "      <th>300</th>\n",
       "      <td>68</td>\n",
       "      <td>1</td>\n",
       "      <td>0</td>\n",
       "      <td>144</td>\n",
       "      <td>193</td>\n",
       "      <td>1</td>\n",
       "      <td>1</td>\n",
       "      <td>141</td>\n",
       "      <td>0</td>\n",
       "      <td>3.4</td>\n",
       "      <td>1</td>\n",
       "      <td>2</td>\n",
       "      <td>3</td>\n",
       "      <td>0</td>\n",
       "    </tr>\n",
       "    <tr>\n",
       "      <th>301</th>\n",
       "      <td>57</td>\n",
       "      <td>1</td>\n",
       "      <td>0</td>\n",
       "      <td>130</td>\n",
       "      <td>131</td>\n",
       "      <td>0</td>\n",
       "      <td>1</td>\n",
       "      <td>115</td>\n",
       "      <td>1</td>\n",
       "      <td>1.2</td>\n",
       "      <td>1</td>\n",
       "      <td>1</td>\n",
       "      <td>3</td>\n",
       "      <td>0</td>\n",
       "    </tr>\n",
       "    <tr>\n",
       "      <th>302</th>\n",
       "      <td>57</td>\n",
       "      <td>0</td>\n",
       "      <td>1</td>\n",
       "      <td>130</td>\n",
       "      <td>236</td>\n",
       "      <td>0</td>\n",
       "      <td>0</td>\n",
       "      <td>174</td>\n",
       "      <td>0</td>\n",
       "      <td>0.0</td>\n",
       "      <td>1</td>\n",
       "      <td>1</td>\n",
       "      <td>2</td>\n",
       "      <td>0</td>\n",
       "    </tr>\n",
       "  </tbody>\n",
       "</table>\n",
       "<p>303 rows × 14 columns</p>\n",
       "</div>"
      ]
     },
     "execution_count": 121,
     "metadata": {},
     "output_type": "execute_result"
    }
   ],
   "execution_count": 121
  },
  {
   "metadata": {},
   "cell_type": "markdown",
   "source": [
    "### Checking for types and null values\n",
    "\n",
    "In any data analysis task it is a good idea to check the columns of the `dataframe` for types. It is done to understand what kind of data is contained in the table. \n",
    "\n",
    "It is done using `dtypes`."
   ],
   "id": "cc65006226b2b819"
  },
  {
   "metadata": {
    "ExecuteTime": {
     "end_time": "2024-08-13T07:29:09.344797Z",
     "start_time": "2024-08-13T07:29:09.319381Z"
    }
   },
   "cell_type": "code",
   "source": "df.dtypes",
   "id": "5d585f4b7ae03ae1",
   "outputs": [
    {
     "data": {
      "text/plain": [
       "age           int64\n",
       "sex           int64\n",
       "cp            int64\n",
       "trtbps        int64\n",
       "chol          int64\n",
       "fbs           int64\n",
       "restecg       int64\n",
       "thalachh      int64\n",
       "exng          int64\n",
       "oldpeak     float64\n",
       "slp           int64\n",
       "caa           int64\n",
       "thall         int64\n",
       "output        int64\n",
       "dtype: object"
      ]
     },
     "execution_count": 122,
     "metadata": {},
     "output_type": "execute_result"
    }
   ],
   "execution_count": 122
  },
  {
   "metadata": {},
   "cell_type": "markdown",
   "source": "You can check how many null values each column contains by using `isnull().sum()` method. The first part of this function checks the columns for null values and then returns the number of those in each column.",
   "id": "1cffb0ef20962e5a"
  },
  {
   "metadata": {
    "ExecuteTime": {
     "end_time": "2024-08-13T07:29:09.424539Z",
     "start_time": "2024-08-13T07:29:09.400584Z"
    }
   },
   "cell_type": "code",
   "source": "df.isnull().sum()",
   "id": "1db5be852b2beebf",
   "outputs": [
    {
     "data": {
      "text/plain": [
       "age         0\n",
       "sex         0\n",
       "cp          0\n",
       "trtbps      0\n",
       "chol        0\n",
       "fbs         0\n",
       "restecg     0\n",
       "thalachh    0\n",
       "exng        0\n",
       "oldpeak     0\n",
       "slp         0\n",
       "caa         0\n",
       "thall       0\n",
       "output      0\n",
       "dtype: int64"
      ]
     },
     "execution_count": 123,
     "metadata": {},
     "output_type": "execute_result"
    }
   ],
   "execution_count": 123
  },
  {
   "metadata": {},
   "cell_type": "markdown",
   "source": [
    "It is convenient that this data already has string and object-type values converted to integers and floats. But we need a documentation to understand which categorical number values (for example, in cp) mean what.\n",
    "\n",
    "We can use this documentation from Kaggle:\n",
    "* Age : Age of the patient\n",
    "* Sex : Sex of the patient\n",
    "* exang: exercise induced angina (1 = yes; 0 = no)\n",
    "* ca: number of major vessels (0-3)\n",
    "* cp : Chest Pain type chest pain type\n",
    "    - Value 1: typical angina\n",
    "    - Value 2: atypical angina\n",
    "    - Value 3: non-anginal pain\n",
    "    - Value 4: asymptomatic\n",
    "* trtbps : resting blood pressure (in mm Hg)\n",
    "* chol : cholesterol in mg/dl fetched via BMI sensor\n",
    "* fbs : (fasting blood sugar > 120 mg/dl) (1 = true; 0 = false)\n",
    "* rest_ecg : resting electrocardiographic results\n",
    "    - Value 0: normal\n",
    "    - Value 1: having ST-T wave abnormality (T wave inversions and/or ST elevation or depression of > 0.05 mV)\n",
    "    - Value 2: showing probable or definite left ventricular hypertrophy by Estes' criteria\n",
    "* thalach : maximum heart rate achieved\n",
    "\n",
    "* target : 0= less chance of heart attack 1= more chance of heart attack"
   ],
   "id": "b9c57e4afd5069fe"
  },
  {
   "metadata": {},
   "cell_type": "markdown",
   "source": [
    "## Data Analysis\n",
    "\n",
    "### Correlation Matrix\n",
    "We will use correlation matrix for our numeric (non-categorical) values"
   ],
   "id": "3b2d347aac7039ca"
  },
  {
   "metadata": {
    "ExecuteTime": {
     "end_time": "2024-08-13T07:29:09.716488Z",
     "start_time": "2024-08-13T07:29:09.634788Z"
    }
   },
   "cell_type": "code",
   "source": [
    "numeric_columns = ['age', 'trtbps', 'chol', 'thalachh', 'oldpeak']\n",
    "data_numeric = df[numeric_columns]\n",
    "data_numeric.corr()"
   ],
   "id": "e0906a229f42f96c",
   "outputs": [
    {
     "data": {
      "text/plain": [
       "               age    trtbps      chol  thalachh   oldpeak\n",
       "age       1.000000  0.279351  0.213678 -0.398522  0.210013\n",
       "trtbps    0.279351  1.000000  0.123174 -0.046698  0.193216\n",
       "chol      0.213678  0.123174  1.000000 -0.009940  0.053952\n",
       "thalachh -0.398522 -0.046698 -0.009940  1.000000 -0.344187\n",
       "oldpeak   0.210013  0.193216  0.053952 -0.344187  1.000000"
      ],
      "text/html": [
       "<div>\n",
       "<style scoped>\n",
       "    .dataframe tbody tr th:only-of-type {\n",
       "        vertical-align: middle;\n",
       "    }\n",
       "\n",
       "    .dataframe tbody tr th {\n",
       "        vertical-align: top;\n",
       "    }\n",
       "\n",
       "    .dataframe thead th {\n",
       "        text-align: right;\n",
       "    }\n",
       "</style>\n",
       "<table border=\"1\" class=\"dataframe\">\n",
       "  <thead>\n",
       "    <tr style=\"text-align: right;\">\n",
       "      <th></th>\n",
       "      <th>age</th>\n",
       "      <th>trtbps</th>\n",
       "      <th>chol</th>\n",
       "      <th>thalachh</th>\n",
       "      <th>oldpeak</th>\n",
       "    </tr>\n",
       "  </thead>\n",
       "  <tbody>\n",
       "    <tr>\n",
       "      <th>age</th>\n",
       "      <td>1.000000</td>\n",
       "      <td>0.279351</td>\n",
       "      <td>0.213678</td>\n",
       "      <td>-0.398522</td>\n",
       "      <td>0.210013</td>\n",
       "    </tr>\n",
       "    <tr>\n",
       "      <th>trtbps</th>\n",
       "      <td>0.279351</td>\n",
       "      <td>1.000000</td>\n",
       "      <td>0.123174</td>\n",
       "      <td>-0.046698</td>\n",
       "      <td>0.193216</td>\n",
       "    </tr>\n",
       "    <tr>\n",
       "      <th>chol</th>\n",
       "      <td>0.213678</td>\n",
       "      <td>0.123174</td>\n",
       "      <td>1.000000</td>\n",
       "      <td>-0.009940</td>\n",
       "      <td>0.053952</td>\n",
       "    </tr>\n",
       "    <tr>\n",
       "      <th>thalachh</th>\n",
       "      <td>-0.398522</td>\n",
       "      <td>-0.046698</td>\n",
       "      <td>-0.009940</td>\n",
       "      <td>1.000000</td>\n",
       "      <td>-0.344187</td>\n",
       "    </tr>\n",
       "    <tr>\n",
       "      <th>oldpeak</th>\n",
       "      <td>0.210013</td>\n",
       "      <td>0.193216</td>\n",
       "      <td>0.053952</td>\n",
       "      <td>-0.344187</td>\n",
       "      <td>1.000000</td>\n",
       "    </tr>\n",
       "  </tbody>\n",
       "</table>\n",
       "</div>"
      ]
     },
     "execution_count": 124,
     "metadata": {},
     "output_type": "execute_result"
    }
   ],
   "execution_count": 124
  },
  {
   "metadata": {},
   "cell_type": "markdown",
   "source": [
    "Based on above correlation matrix, you can see how the variables correlate between each other.\n",
    "\n",
    "Numbers represent strength of correlation:\n",
    "\n",
    "0.7 to 1.0 (-0.7 to -1.0) -> Strong correlation.\n",
    "0.5 to 0.7 (-0.5 to -0.7) -> Moderate correlation.\n",
    "0.3 to 0.5 (-0.3 to -0.5) -> Weak correlation.\n",
    "0.0 to 0.3 (0.0 to -0.3) -> Negligible correlation.\n",
    "Positive numbers mean positive correlation (as one value increases, the other does too).\n",
    "Negative numbers mean negative correlation (as one value increases, the other decreases)."
   ],
   "id": "82739d6323773544"
  },
  {
   "metadata": {},
   "cell_type": "markdown",
   "source": [
    "## Plots for Multi-variable analysis\n",
    "\n",
    "Firstly, it is needed to set license key for our LightningChart."
   ],
   "id": "406a2ca30c2296ba"
  },
  {
   "metadata": {
    "ExecuteTime": {
     "end_time": "2024-08-13T07:29:09.838776Z",
     "start_time": "2024-08-13T07:29:09.828137Z"
    }
   },
   "cell_type": "code",
   "source": [
    "with open(\"license_key.txt\", \"r\") as file:  # License key is stored in 'license_key.txt'\n",
    "    key = file.read()\n",
    "lc.set_license(key)"
   ],
   "id": "ab9d35b586e46819",
   "outputs": [],
   "execution_count": 125
  },
  {
   "metadata": {},
   "cell_type": "markdown",
   "source": [
    "Then we can create a scatter plot based on two parameters. For example, cholesterol and heartrate.\n",
    "\n",
    "Scatter plot is nice because it can provide not only the information about contribution of the parameters to the output, but also it shows the correlation between the 2 (or 3, if it is 3D scatter chart) parameters. "
   ],
   "id": "cd24ed2d12cd7d9f"
  },
  {
   "metadata": {
    "ExecuteTime": {
     "end_time": "2024-08-13T07:29:10.183417Z",
     "start_time": "2024-08-13T07:29:10.120077Z"
    }
   },
   "cell_type": "code",
   "source": [
    "chol_neg = df.loc[df['output'] == 0, 'chol'].tolist()\n",
    "heartrate_neg = df.loc[df['output'] == 0, 'thalachh'].tolist()\n",
    "\n",
    "chol_pos = df.loc[df['output'] == 1, 'chol'].tolist()\n",
    "heartrate_pos = df.loc[df['output'] == 1, 'thalachh'].tolist()\n",
    "\n",
    "scatter = lc.ChartXY(   # scatter chart intialization\n",
    "    theme=lc.Themes.White,  # overall theme\n",
    "    title='Scatter Chart (Cholesterol vs Heartrate)', \n",
    ")\n",
    "series_neg = scatter.add_point_series().add(\n",
    "    x=chol_neg,  # push samples to series\n",
    "    y=heartrate_neg,\n",
    ")\n",
    "series_pos = scatter.add_point_series().add(\n",
    "    x=chol_pos,  \n",
    "    y=heartrate_pos,\n",
    ")\n",
    "\n",
    "series_neg.set_point_color(lc.Color(0, 255, 0, 192)).set_name(\"No Heart Attack\")\n",
    "series_pos.set_point_color(lc.Color(255, 0, 0, 192)).set_name(\"Heart Attack\")\n",
    "\n",
    "scatter.get_default_x_axis().set_title(\"Cholesterol\")\n",
    "scatter.get_default_y_axis().set_title(\"Heartrate\")\n",
    "scatter.add_legend().add(scatter)\n",
    "scatter.open()"
   ],
   "id": "5464bed57937b1b7",
   "outputs": [
    {
     "data": {
      "text/plain": [
       "<IPython.lib.display.IFrame at 0x111300490>"
      ],
      "text/html": [
       "\n",
       "        <iframe\n",
       "            width=\"100%\"\n",
       "            height=\"600\"\n",
       "            src=\"http://localhost:56567\"\n",
       "            frameborder=\"0\"\n",
       "            allowfullscreen\n",
       "            \n",
       "        ></iframe>\n",
       "        "
      ]
     },
     "execution_count": 126,
     "metadata": {},
     "output_type": "execute_result"
    }
   ],
   "execution_count": 126
  },
  {
   "metadata": {},
   "cell_type": "markdown",
   "source": [
    "It can be seen that the higher the heartrate, the more risk of the heart attack. Also, we can see that generally, the higher the cholesterol, the higher the heartrate.   \n",
    "The correlation between cholesterol and the output is not very obvious, so we can make a box plots fot heart rate and cholesterol."
   ],
   "id": "8b7b67c471ba6322"
  },
  {
   "metadata": {
    "ExecuteTime": {
     "end_time": "2024-08-13T07:29:10.607213Z",
     "start_time": "2024-08-13T07:29:10.568524Z"
    }
   },
   "cell_type": "code",
   "source": [
    "boxplt_heartrate = lc.BoxPlot(  # init box plot\n",
    "    data=[heartrate_neg, heartrate_pos],\n",
    "    theme=lc.Themes.White,\n",
    "    title='Heartrate',\n",
    "    xlabel='No Heart Attack (Left), Heart Attack (Right)',\n",
    "    ylabel='Values'\n",
    ")\n",
    "boxplt_heartrate.open()"
   ],
   "id": "25b90239442b4926",
   "outputs": [
    {
     "data": {
      "text/plain": [
       "<IPython.lib.display.IFrame at 0x1241afb10>"
      ],
      "text/html": [
       "\n",
       "        <iframe\n",
       "            width=\"100%\"\n",
       "            height=\"600\"\n",
       "            src=\"http://localhost:56568\"\n",
       "            frameborder=\"0\"\n",
       "            allowfullscreen\n",
       "            \n",
       "        ></iframe>\n",
       "        "
      ]
     },
     "execution_count": 127,
     "metadata": {},
     "output_type": "execute_result"
    }
   ],
   "execution_count": 127
  },
  {
   "metadata": {
    "ExecuteTime": {
     "end_time": "2024-08-13T07:29:10.732809Z",
     "start_time": "2024-08-13T07:29:10.697469Z"
    }
   },
   "cell_type": "code",
   "source": [
    "thalach_heart_attack_mean = df.groupby('output')['thalachh'].mean()\n",
    "print(\"Mean Maximum Heart Rate\")\n",
    "print(thalach_heart_attack_mean)"
   ],
   "id": "ce99d33539098cd5",
   "outputs": [
    {
     "name": "stdout",
     "output_type": "stream",
     "text": [
      "Mean Maximum Heart Rate\n",
      "output\n",
      "0    139.101449\n",
      "1    158.466667\n",
      "Name: thalachh, dtype: float64\n"
     ]
    }
   ],
   "execution_count": 128
  },
  {
   "metadata": {
    "ExecuteTime": {
     "end_time": "2024-08-13T07:29:11.361873Z",
     "start_time": "2024-08-13T07:29:11.336719Z"
    }
   },
   "cell_type": "code",
   "source": [
    "boxplt_chol = lc.BoxPlot(  # init box plot\n",
    "    data=[chol_neg, chol_pos],\n",
    "    theme=lc.Themes.White,\n",
    "    title='Cholesterol',\n",
    "    xlabel='No Heart Attack (Left), Heart Attack (Right)',\n",
    "    ylabel='Values'\n",
    ")\n",
    "boxplt_chol.open()\n"
   ],
   "id": "863a5172b0861a9e",
   "outputs": [
    {
     "data": {
      "text/plain": [
       "<IPython.lib.display.IFrame at 0x124393890>"
      ],
      "text/html": [
       "\n",
       "        <iframe\n",
       "            width=\"100%\"\n",
       "            height=\"600\"\n",
       "            src=\"http://localhost:56571\"\n",
       "            frameborder=\"0\"\n",
       "            allowfullscreen\n",
       "            \n",
       "        ></iframe>\n",
       "        "
      ]
     },
     "execution_count": 129,
     "metadata": {},
     "output_type": "execute_result"
    }
   ],
   "execution_count": 129
  },
  {
   "metadata": {},
   "cell_type": "markdown",
   "source": [
    "We can see that the extreme number of cholesterol relates to heart attack, but it is not necessary that those who have lower cholesterol are not subject to heart attacks.\n",
    "\n",
    "The next scatter chart parameters are cholesterol and heart pressure."
   ],
   "id": "ed9c10568553086d"
  },
  {
   "metadata": {},
   "cell_type": "markdown",
   "source": "We can also explore the correlation between heartrate and exercise-induced angina. Another boxplot.",
   "id": "19c805b2c705876f"
  },
  {
   "metadata": {
    "ExecuteTime": {
     "end_time": "2024-08-13T07:29:11.957920Z",
     "start_time": "2024-08-13T07:29:11.926775Z"
    }
   },
   "cell_type": "code",
   "source": [
    "heartrate_angina = df.loc[df['exng'] == 1, 'thalachh'].tolist()\n",
    "heartrate_noangina = df.loc[df['exng'] == 0, 'thalachh'].tolist()\n",
    "\n",
    "boxplt_chol = lc.BoxPlot(  \n",
    "    data=[heartrate_noangina, heartrate_angina],\n",
    "    theme=lc.Themes.White,\n",
    "    title='Heartrate',\n",
    "    xlabel='No Angina (Left), Angina (Right)',\n",
    "    ylabel='Values'\n",
    ")\n",
    "boxplt_chol.open()"
   ],
   "id": "1679e1cd222105cd",
   "outputs": [
    {
     "data": {
      "text/plain": [
       "<IPython.lib.display.IFrame at 0x124398990>"
      ],
      "text/html": [
       "\n",
       "        <iframe\n",
       "            width=\"100%\"\n",
       "            height=\"600\"\n",
       "            src=\"http://localhost:56574\"\n",
       "            frameborder=\"0\"\n",
       "            allowfullscreen\n",
       "            \n",
       "        ></iframe>\n",
       "        "
      ]
     },
     "execution_count": 130,
     "metadata": {},
     "output_type": "execute_result"
    }
   ],
   "execution_count": 130
  },
  {
   "metadata": {
    "ExecuteTime": {
     "end_time": "2024-08-13T07:29:12.257615Z",
     "start_time": "2024-08-13T07:29:12.235144Z"
    }
   },
   "cell_type": "code",
   "source": [
    "thalach_exang_mean = df.groupby('exng')['thalachh'].mean()\n",
    "print(\"Mean Maximum Heart Rate by Exercise-Induced Angina:\")\n",
    "print(thalach_exang_mean)"
   ],
   "id": "14a56b7d74ff6267",
   "outputs": [
    {
     "name": "stdout",
     "output_type": "stream",
     "text": [
      "Mean Maximum Heart Rate by Exercise-Induced Angina:\n",
      "exng\n",
      "0    155.681373\n",
      "1    137.212121\n",
      "Name: thalachh, dtype: float64\n"
     ]
    }
   ],
   "execution_count": 131
  },
  {
   "metadata": {},
   "cell_type": "markdown",
   "source": "It can be seen that individuals with exercise-induced angina have a lower mean maximum heart rate. It suggests that these individuals may experience cardiovascular limitations. Angina is typically a sign that the heart muscle is not getting enough oxygen-rich blood during exertion, which could prevent these individuals from reaching higher heart rates.",
   "id": "32d7cd33cb7d7b03"
  },
  {
   "metadata": {
    "ExecuteTime": {
     "end_time": "2024-08-13T07:29:12.521580Z",
     "start_time": "2024-08-13T07:29:12.483710Z"
    }
   },
   "cell_type": "code",
   "source": [
    "bp_neg = df.loc[df['output'] == 0, 'trtbps'].tolist()\n",
    "\n",
    "bp_pos = df.loc[df['output'] == 1, 'trtbps'].tolist()\n",
    "\n",
    "scatter = lc.ChartXY(   # scatter chart intialization\n",
    "    theme=lc.Themes.White,  # overall theme\n",
    "    title='Scatter Chart (Cholesterol vs Pressure)', \n",
    ")\n",
    "series_neg = scatter.add_point_series().add(\n",
    "    x=chol_neg,  # push samples to series\n",
    "    y=bp_neg,\n",
    ")\n",
    "series_pos = scatter.add_point_series().add(\n",
    "    x=chol_pos,  \n",
    "    y=bp_pos,\n",
    ")\n",
    "\n",
    "series_neg.set_point_color(lc.Color(0, 255, 0, 192)).set_name(\"No Heart Attack\")\n",
    "series_pos.set_point_color(lc.Color(255, 0, 0, 192)).set_name(\"Heart Attack\")\n",
    "\n",
    "scatter.get_default_x_axis().set_title(\"Cholesterol\")\n",
    "scatter.get_default_y_axis().set_title(\"Blood Pressure\")\n",
    "scatter.add_legend().add(scatter)\n",
    "scatter.open()"
   ],
   "id": "41b061efc3ca7b68",
   "outputs": [
    {
     "data": {
      "text/plain": [
       "<IPython.lib.display.IFrame at 0x12438c150>"
      ],
      "text/html": [
       "\n",
       "        <iframe\n",
       "            width=\"100%\"\n",
       "            height=\"600\"\n",
       "            src=\"http://localhost:56575\"\n",
       "            frameborder=\"0\"\n",
       "            allowfullscreen\n",
       "            \n",
       "        ></iframe>\n",
       "        "
      ]
     },
     "execution_count": 132,
     "metadata": {},
     "output_type": "execute_result"
    }
   ],
   "execution_count": 132
  },
  {
   "metadata": {},
   "cell_type": "markdown",
   "source": "Let's also make a box blot for the blood pressure.",
   "id": "5f233c9ececa5ba6"
  },
  {
   "metadata": {
    "ExecuteTime": {
     "end_time": "2024-08-13T07:29:13.062954Z",
     "start_time": "2024-08-13T07:29:13.035442Z"
    }
   },
   "cell_type": "code",
   "source": [
    "boxplt = lc.BoxPlot(  # init box plot\n",
    "    data=[bp_neg, bp_pos],\n",
    "    theme=lc.Themes.White,\n",
    "    title='Blood Pressure',\n",
    "    xlabel='No Heart Attack (Left), Heart Attack (Right)',\n",
    "    ylabel='Values'\n",
    ")\n",
    "boxplt.open()"
   ],
   "id": "93dbb2866fbf0a4d",
   "outputs": [
    {
     "data": {
      "text/plain": [
       "<IPython.lib.display.IFrame at 0x1243995d0>"
      ],
      "text/html": [
       "\n",
       "        <iframe\n",
       "            width=\"100%\"\n",
       "            height=\"600\"\n",
       "            src=\"http://localhost:56580\"\n",
       "            frameborder=\"0\"\n",
       "            allowfullscreen\n",
       "            \n",
       "        ></iframe>\n",
       "        "
      ]
     },
     "execution_count": 133,
     "metadata": {},
     "output_type": "execute_result"
    }
   ],
   "execution_count": 133
  },
  {
   "metadata": {
    "ExecuteTime": {
     "end_time": "2024-08-13T07:29:13.392300Z",
     "start_time": "2024-08-13T07:29:13.376568Z"
    }
   },
   "cell_type": "code",
   "source": [
    "thalach_exang_mean = df.groupby('output')['trtbps'].mean()\n",
    "print(\"Mean Blood Pressure by Output:\")\n",
    "print(thalach_exang_mean)"
   ],
   "id": "954a31d7c524d45",
   "outputs": [
    {
     "name": "stdout",
     "output_type": "stream",
     "text": [
      "Mean Blood Pressure by Output:\n",
      "output\n",
      "0    134.398551\n",
      "1    129.303030\n",
      "Name: trtbps, dtype: float64\n"
     ]
    }
   ],
   "execution_count": 134
  },
  {
   "metadata": {},
   "cell_type": "markdown",
   "source": "Those who had a heart attack generally have less blood pressure values. It may be counterintuitive, but it shows that the blood pressure alone doesn't certainly show that the individual is subject to a heart attack or not.",
   "id": "50951d75efe15d78"
  },
  {
   "metadata": {},
   "cell_type": "markdown",
   "source": [
    "### Grouped bar chart for age\n",
    "\n",
    "For creating a bar chart, firstly we need to divide the entries to bins based on age. Then, we can create the bar chart itself."
   ],
   "id": "5aa53b43d2353ab7"
  },
  {
   "metadata": {
    "ExecuteTime": {
     "end_time": "2024-08-13T07:29:13.753712Z",
     "start_time": "2024-08-13T07:29:13.671392Z"
    }
   },
   "cell_type": "code",
   "source": [
    "bins = [29, 50, 60, 77]  \n",
    "labels = ['29-50', '51-60', '61-77']\n",
    "\n",
    "df['age_range'] = pd.cut(df['age'], bins=bins, labels=labels, right=True)\n",
    "\n",
    "mapping = {0: 'No Heart Attack', 1: 'Heart attack'}\n",
    "df['output_words'] = df['output'].map(mapping)\n",
    "\n",
    "df"
   ],
   "id": "4128759e3c14068a",
   "outputs": [
    {
     "data": {
      "text/plain": [
       "     age  sex  cp  trtbps  chol  fbs  restecg  thalachh  exng  oldpeak  slp  \\\n",
       "0     63    1   3     145   233    1        0       150     0      2.3    0   \n",
       "1     37    1   2     130   250    0        1       187     0      3.5    0   \n",
       "2     41    0   1     130   204    0        0       172     0      1.4    2   \n",
       "3     56    1   1     120   236    0        1       178     0      0.8    2   \n",
       "4     57    0   0     120   354    0        1       163     1      0.6    2   \n",
       "..   ...  ...  ..     ...   ...  ...      ...       ...   ...      ...  ...   \n",
       "298   57    0   0     140   241    0        1       123     1      0.2    1   \n",
       "299   45    1   3     110   264    0        1       132     0      1.2    1   \n",
       "300   68    1   0     144   193    1        1       141     0      3.4    1   \n",
       "301   57    1   0     130   131    0        1       115     1      1.2    1   \n",
       "302   57    0   1     130   236    0        0       174     0      0.0    1   \n",
       "\n",
       "     caa  thall  output age_range     output_words  \n",
       "0      0      1       1     61-77     Heart attack  \n",
       "1      0      2       1     29-50     Heart attack  \n",
       "2      0      2       1     29-50     Heart attack  \n",
       "3      0      2       1     51-60     Heart attack  \n",
       "4      0      2       1     51-60     Heart attack  \n",
       "..   ...    ...     ...       ...              ...  \n",
       "298    0      3       0     51-60  No Heart Attack  \n",
       "299    0      3       0     29-50  No Heart Attack  \n",
       "300    2      3       0     61-77  No Heart Attack  \n",
       "301    1      3       0     51-60  No Heart Attack  \n",
       "302    1      2       0     51-60  No Heart Attack  \n",
       "\n",
       "[303 rows x 16 columns]"
      ],
      "text/html": [
       "<div>\n",
       "<style scoped>\n",
       "    .dataframe tbody tr th:only-of-type {\n",
       "        vertical-align: middle;\n",
       "    }\n",
       "\n",
       "    .dataframe tbody tr th {\n",
       "        vertical-align: top;\n",
       "    }\n",
       "\n",
       "    .dataframe thead th {\n",
       "        text-align: right;\n",
       "    }\n",
       "</style>\n",
       "<table border=\"1\" class=\"dataframe\">\n",
       "  <thead>\n",
       "    <tr style=\"text-align: right;\">\n",
       "      <th></th>\n",
       "      <th>age</th>\n",
       "      <th>sex</th>\n",
       "      <th>cp</th>\n",
       "      <th>trtbps</th>\n",
       "      <th>chol</th>\n",
       "      <th>fbs</th>\n",
       "      <th>restecg</th>\n",
       "      <th>thalachh</th>\n",
       "      <th>exng</th>\n",
       "      <th>oldpeak</th>\n",
       "      <th>slp</th>\n",
       "      <th>caa</th>\n",
       "      <th>thall</th>\n",
       "      <th>output</th>\n",
       "      <th>age_range</th>\n",
       "      <th>output_words</th>\n",
       "    </tr>\n",
       "  </thead>\n",
       "  <tbody>\n",
       "    <tr>\n",
       "      <th>0</th>\n",
       "      <td>63</td>\n",
       "      <td>1</td>\n",
       "      <td>3</td>\n",
       "      <td>145</td>\n",
       "      <td>233</td>\n",
       "      <td>1</td>\n",
       "      <td>0</td>\n",
       "      <td>150</td>\n",
       "      <td>0</td>\n",
       "      <td>2.3</td>\n",
       "      <td>0</td>\n",
       "      <td>0</td>\n",
       "      <td>1</td>\n",
       "      <td>1</td>\n",
       "      <td>61-77</td>\n",
       "      <td>Heart attack</td>\n",
       "    </tr>\n",
       "    <tr>\n",
       "      <th>1</th>\n",
       "      <td>37</td>\n",
       "      <td>1</td>\n",
       "      <td>2</td>\n",
       "      <td>130</td>\n",
       "      <td>250</td>\n",
       "      <td>0</td>\n",
       "      <td>1</td>\n",
       "      <td>187</td>\n",
       "      <td>0</td>\n",
       "      <td>3.5</td>\n",
       "      <td>0</td>\n",
       "      <td>0</td>\n",
       "      <td>2</td>\n",
       "      <td>1</td>\n",
       "      <td>29-50</td>\n",
       "      <td>Heart attack</td>\n",
       "    </tr>\n",
       "    <tr>\n",
       "      <th>2</th>\n",
       "      <td>41</td>\n",
       "      <td>0</td>\n",
       "      <td>1</td>\n",
       "      <td>130</td>\n",
       "      <td>204</td>\n",
       "      <td>0</td>\n",
       "      <td>0</td>\n",
       "      <td>172</td>\n",
       "      <td>0</td>\n",
       "      <td>1.4</td>\n",
       "      <td>2</td>\n",
       "      <td>0</td>\n",
       "      <td>2</td>\n",
       "      <td>1</td>\n",
       "      <td>29-50</td>\n",
       "      <td>Heart attack</td>\n",
       "    </tr>\n",
       "    <tr>\n",
       "      <th>3</th>\n",
       "      <td>56</td>\n",
       "      <td>1</td>\n",
       "      <td>1</td>\n",
       "      <td>120</td>\n",
       "      <td>236</td>\n",
       "      <td>0</td>\n",
       "      <td>1</td>\n",
       "      <td>178</td>\n",
       "      <td>0</td>\n",
       "      <td>0.8</td>\n",
       "      <td>2</td>\n",
       "      <td>0</td>\n",
       "      <td>2</td>\n",
       "      <td>1</td>\n",
       "      <td>51-60</td>\n",
       "      <td>Heart attack</td>\n",
       "    </tr>\n",
       "    <tr>\n",
       "      <th>4</th>\n",
       "      <td>57</td>\n",
       "      <td>0</td>\n",
       "      <td>0</td>\n",
       "      <td>120</td>\n",
       "      <td>354</td>\n",
       "      <td>0</td>\n",
       "      <td>1</td>\n",
       "      <td>163</td>\n",
       "      <td>1</td>\n",
       "      <td>0.6</td>\n",
       "      <td>2</td>\n",
       "      <td>0</td>\n",
       "      <td>2</td>\n",
       "      <td>1</td>\n",
       "      <td>51-60</td>\n",
       "      <td>Heart attack</td>\n",
       "    </tr>\n",
       "    <tr>\n",
       "      <th>...</th>\n",
       "      <td>...</td>\n",
       "      <td>...</td>\n",
       "      <td>...</td>\n",
       "      <td>...</td>\n",
       "      <td>...</td>\n",
       "      <td>...</td>\n",
       "      <td>...</td>\n",
       "      <td>...</td>\n",
       "      <td>...</td>\n",
       "      <td>...</td>\n",
       "      <td>...</td>\n",
       "      <td>...</td>\n",
       "      <td>...</td>\n",
       "      <td>...</td>\n",
       "      <td>...</td>\n",
       "      <td>...</td>\n",
       "    </tr>\n",
       "    <tr>\n",
       "      <th>298</th>\n",
       "      <td>57</td>\n",
       "      <td>0</td>\n",
       "      <td>0</td>\n",
       "      <td>140</td>\n",
       "      <td>241</td>\n",
       "      <td>0</td>\n",
       "      <td>1</td>\n",
       "      <td>123</td>\n",
       "      <td>1</td>\n",
       "      <td>0.2</td>\n",
       "      <td>1</td>\n",
       "      <td>0</td>\n",
       "      <td>3</td>\n",
       "      <td>0</td>\n",
       "      <td>51-60</td>\n",
       "      <td>No Heart Attack</td>\n",
       "    </tr>\n",
       "    <tr>\n",
       "      <th>299</th>\n",
       "      <td>45</td>\n",
       "      <td>1</td>\n",
       "      <td>3</td>\n",
       "      <td>110</td>\n",
       "      <td>264</td>\n",
       "      <td>0</td>\n",
       "      <td>1</td>\n",
       "      <td>132</td>\n",
       "      <td>0</td>\n",
       "      <td>1.2</td>\n",
       "      <td>1</td>\n",
       "      <td>0</td>\n",
       "      <td>3</td>\n",
       "      <td>0</td>\n",
       "      <td>29-50</td>\n",
       "      <td>No Heart Attack</td>\n",
       "    </tr>\n",
       "    <tr>\n",
       "      <th>300</th>\n",
       "      <td>68</td>\n",
       "      <td>1</td>\n",
       "      <td>0</td>\n",
       "      <td>144</td>\n",
       "      <td>193</td>\n",
       "      <td>1</td>\n",
       "      <td>1</td>\n",
       "      <td>141</td>\n",
       "      <td>0</td>\n",
       "      <td>3.4</td>\n",
       "      <td>1</td>\n",
       "      <td>2</td>\n",
       "      <td>3</td>\n",
       "      <td>0</td>\n",
       "      <td>61-77</td>\n",
       "      <td>No Heart Attack</td>\n",
       "    </tr>\n",
       "    <tr>\n",
       "      <th>301</th>\n",
       "      <td>57</td>\n",
       "      <td>1</td>\n",
       "      <td>0</td>\n",
       "      <td>130</td>\n",
       "      <td>131</td>\n",
       "      <td>0</td>\n",
       "      <td>1</td>\n",
       "      <td>115</td>\n",
       "      <td>1</td>\n",
       "      <td>1.2</td>\n",
       "      <td>1</td>\n",
       "      <td>1</td>\n",
       "      <td>3</td>\n",
       "      <td>0</td>\n",
       "      <td>51-60</td>\n",
       "      <td>No Heart Attack</td>\n",
       "    </tr>\n",
       "    <tr>\n",
       "      <th>302</th>\n",
       "      <td>57</td>\n",
       "      <td>0</td>\n",
       "      <td>1</td>\n",
       "      <td>130</td>\n",
       "      <td>236</td>\n",
       "      <td>0</td>\n",
       "      <td>0</td>\n",
       "      <td>174</td>\n",
       "      <td>0</td>\n",
       "      <td>0.0</td>\n",
       "      <td>1</td>\n",
       "      <td>1</td>\n",
       "      <td>2</td>\n",
       "      <td>0</td>\n",
       "      <td>51-60</td>\n",
       "      <td>No Heart Attack</td>\n",
       "    </tr>\n",
       "  </tbody>\n",
       "</table>\n",
       "<p>303 rows × 16 columns</p>\n",
       "</div>"
      ]
     },
     "execution_count": 135,
     "metadata": {},
     "output_type": "execute_result"
    }
   ],
   "execution_count": 135
  },
  {
   "metadata": {
    "ExecuteTime": {
     "end_time": "2024-08-13T07:29:14.094087Z",
     "start_time": "2024-08-13T07:29:13.987287Z"
    }
   },
   "cell_type": "code",
   "source": [
    "outcome_counts_by_age = df.groupby(['age_range', 'output_words'], observed=True).size().unstack(fill_value=0)\n",
    "outcome_counts_by_age"
   ],
   "id": "4d622592649e3ed8",
   "outputs": [
    {
     "data": {
      "text/plain": [
       "output_words  Heart attack  No Heart Attack\n",
       "age_range                                  \n",
       "29-50                   65               29\n",
       "51-60                   64               65\n",
       "61-77                   35               44"
      ],
      "text/html": [
       "<div>\n",
       "<style scoped>\n",
       "    .dataframe tbody tr th:only-of-type {\n",
       "        vertical-align: middle;\n",
       "    }\n",
       "\n",
       "    .dataframe tbody tr th {\n",
       "        vertical-align: top;\n",
       "    }\n",
       "\n",
       "    .dataframe thead th {\n",
       "        text-align: right;\n",
       "    }\n",
       "</style>\n",
       "<table border=\"1\" class=\"dataframe\">\n",
       "  <thead>\n",
       "    <tr style=\"text-align: right;\">\n",
       "      <th>output_words</th>\n",
       "      <th>Heart attack</th>\n",
       "      <th>No Heart Attack</th>\n",
       "    </tr>\n",
       "    <tr>\n",
       "      <th>age_range</th>\n",
       "      <th></th>\n",
       "      <th></th>\n",
       "    </tr>\n",
       "  </thead>\n",
       "  <tbody>\n",
       "    <tr>\n",
       "      <th>29-50</th>\n",
       "      <td>65</td>\n",
       "      <td>29</td>\n",
       "    </tr>\n",
       "    <tr>\n",
       "      <th>51-60</th>\n",
       "      <td>64</td>\n",
       "      <td>65</td>\n",
       "    </tr>\n",
       "    <tr>\n",
       "      <th>61-77</th>\n",
       "      <td>35</td>\n",
       "      <td>44</td>\n",
       "    </tr>\n",
       "  </tbody>\n",
       "</table>\n",
       "</div>"
      ]
     },
     "execution_count": 136,
     "metadata": {},
     "output_type": "execute_result"
    }
   ],
   "execution_count": 136
  },
  {
   "metadata": {
    "ExecuteTime": {
     "end_time": "2024-08-13T07:29:14.461461Z",
     "start_time": "2024-08-13T07:29:14.426668Z"
    }
   },
   "cell_type": "code",
   "source": [
    "result = []\n",
    "for target in df['output_words'].unique():  # make json-like formation of data\n",
    "    values = [int(x) for x in outcome_counts_by_age[target].tolist()]  \n",
    "    result.append({                     \n",
    "        'subCategory': target,\n",
    "        'values': values\n",
    "    })\n",
    "barchart_grouped = lc.BarChart(  # initialize bar chart\n",
    "    vertical=True,\n",
    "    theme=lc.Themes.White,\n",
    "    title='Heart Attacks By Age',\n",
    ")\n",
    "barchart_grouped.set_data_grouped(labels, result)  # set data\n",
    "barchart_grouped.set_sorting('alphabetical').set_animation_category_position(False)\n",
    "barchart_grouped.add_legend().add(barchart_grouped)  # add legend\n",
    "barchart_grouped.open() "
   ],
   "id": "876f9f2a8d1c043b",
   "outputs": [
    {
     "data": {
      "text/plain": [
       "<IPython.lib.display.IFrame at 0x12416fa90>"
      ],
      "text/html": [
       "\n",
       "        <iframe\n",
       "            width=\"100%\"\n",
       "            height=\"600\"\n",
       "            src=\"http://localhost:56586\"\n",
       "            frameborder=\"0\"\n",
       "            allowfullscreen\n",
       "            \n",
       "        ></iframe>\n",
       "        "
      ]
     },
     "execution_count": 137,
     "metadata": {},
     "output_type": "execute_result"
    }
   ],
   "execution_count": 137
  },
  {
   "metadata": {},
   "cell_type": "markdown",
   "source": "",
   "id": "573d4767d438bb4e"
  },
  {
   "metadata": {
    "ExecuteTime": {
     "end_time": "2024-08-13T07:29:14.752751Z",
     "start_time": "2024-08-13T07:29:14.687551Z"
    }
   },
   "cell_type": "code",
   "source": "",
   "id": "f2e1939aa2a48240",
   "outputs": [],
   "execution_count": 137
  }
 ],
 "metadata": {
  "kernelspec": {
   "display_name": "Python 3",
   "language": "python",
   "name": "python3"
  },
  "language_info": {
   "codemirror_mode": {
    "name": "ipython",
    "version": 2
   },
   "file_extension": ".py",
   "mimetype": "text/x-python",
   "name": "python",
   "nbconvert_exporter": "python",
   "pygments_lexer": "ipython2",
   "version": "2.7.6"
  }
 },
 "nbformat": 4,
 "nbformat_minor": 5
}
